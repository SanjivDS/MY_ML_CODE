{
 "cells": [
  {
   "cell_type": "code",
   "execution_count": 2,
   "metadata": {},
   "outputs": [],
   "source": [
    "#Tokenizer imported.\n",
    "import csv\n",
    "from tensorflow.keras.preprocessing.text import Tokenizer\n",
    "from tensorflow.keras.preprocessing.sequence import pad_sequences\n"
   ]
  },
  {
   "cell_type": "code",
   "execution_count": 4,
   "metadata": {},
   "outputs": [],
   "source": [
    "#sample provided here.\n",
    "sentences=[\n",
    "    'i love ml',\n",
    "    'i love nlp',\n",
    "    'nlp has a great potential',\n",
    "    'start learning it'\n",
    "    \n",
    "]"
   ]
  },
  {
   "cell_type": "code",
   "execution_count": 6,
   "metadata": {},
   "outputs": [],
   "source": [
    "#num_words:no of words\n",
    "#oov_token:out of vocabulary so its a replacement option for unfimiliar words.\n",
    "#fit_on_texts:used for encoding words.\n",
    "#word_index:gives token to individyal letters of the word in sample.\n",
    "tokenizer= Tokenizer(num_words = 100, oov_token='<OOV>')\n",
    "tokenizer.fit_on_texts(sentences)\n",
    "word_index= tokenizer.word_index"
   ]
  },
  {
   "cell_type": "code",
   "execution_count": 8,
   "metadata": {},
   "outputs": [],
   "source": [
    "#sequence:it gives token for the entire word in dictionary form.\n",
    "sequences= tokenizer.texts_to_sequences(sentences)"
   ]
  },
  {
   "cell_type": "code",
   "execution_count": 11,
   "metadata": {},
   "outputs": [],
   "source": [
    "pad=pad_sequences(sequences)"
   ]
  },
  {
   "cell_type": "code",
   "execution_count": 12,
   "metadata": {},
   "outputs": [
    {
     "name": "stdout",
     "output_type": "stream",
     "text": [
      "{'<OOV>': 1, 'i': 2, 'love': 3, 'nlp': 4, 'ml': 5, 'has': 6, 'a': 7, 'great': 8, 'potential': 9, 'start': 10, 'learning': 11, 'it': 12}\n",
      "[[2, 3, 5], [2, 3, 4], [4, 6, 7, 8, 9], [10, 11, 12]]\n",
      "[[ 0  0  2  3  5]\n",
      " [ 0  0  2  3  4]\n",
      " [ 4  6  7  8  9]\n",
      " [ 0  0 10 11 12]]\n"
     ]
    }
   ],
   "source": [
    "print(word_index)\n",
    "print(sequences)\n",
    "print(pad)"
   ]
  }
 ],
 "metadata": {
  "kernelspec": {
   "display_name": "Python 3",
   "language": "python",
   "name": "python3"
  },
  "language_info": {
   "codemirror_mode": {
    "name": "ipython",
    "version": 3
   },
   "file_extension": ".py",
   "mimetype": "text/x-python",
   "name": "python",
   "nbconvert_exporter": "python",
   "pygments_lexer": "ipython3",
   "version": "3.6.8"
  }
 },
 "nbformat": 4,
 "nbformat_minor": 2
}
